{
  "cells": [
    {
      "cell_type": "markdown",
      "metadata": {
        "id": "view-in-github",
        "colab_type": "text"
      },
      "source": [
        "<a href=\"https://colab.research.google.com/github/straus91/dicom-jpr2022/blob/master/DICOM_Tutorial.ipynb\" target=\"_parent\"><img src=\"https://colab.research.google.com/assets/colab-badge.svg\" alt=\"Open In Colab\"/></a>"
      ]
    },
    {
      "cell_type": "markdown",
      "id": "726b129b",
      "metadata": {
        "id": "726b129b"
      },
      "source": [
        "# DICOM\n",
        "\n",
        "<br><br>\n",
        "## Pydicom\n",
        "### Neste curso iremos trabalhar com uma biblioteca chamada pydicom, que possui muiotas funções já preparadas para trabalhar com esse formato\n"
      ]
    },
    {
      "cell_type": "code",
      "execution_count": null,
      "id": "c685930e",
      "metadata": {
        "id": "c685930e"
      },
      "outputs": [],
      "source": [
        "!pip install pydicom\n",
        "import pydicom\n",
        "\n",
        "!pip install scikit-image\n",
        "!pip install opencv-python\n",
        "!pip install matplotlib\n",
        "from pydicom.pixel_data_handlers import util\n",
        "from matplotlib import pyplot\n",
        "import numpy as np\n",
        "import cv2\n",
        "import skimage\n",
        "from skimage import io\n",
        "from skimage import filters\n",
        "import os\n",
        "import pandas as pd\n",
        "\n",
        "!git clone https://github.com/straus91/dicom-jpr2022.git"
      ]
    },
    {
      "cell_type": "markdown",
      "id": "b881d8c4",
      "metadata": {
        "id": "b881d8c4"
      },
      "source": [
        "### O primeiro passo será carregar um arquivo dicom, entao precisamos:\n",
        "1. localizar o arquivo DICOM\n",
        "2. carregar o aqruivo DICOM para uma variável.\n"
      ]
    },
    {
      "cell_type": "code",
      "execution_count": null,
      "id": "e3577825",
      "metadata": {
        "id": "e3577825"
      },
      "outputs": [],
      "source": [
        "meu_dicom = pydicom.dcmread(\"dicom-jpr2022/dicom/exemplo_1.dcm\")"
      ]
    },
    {
      "cell_type": "markdown",
      "id": "20407ad3",
      "metadata": {
        "id": "20407ad3"
      },
      "source": [
        "<img src =\"notebook_images/funcao_3.png\">"
      ]
    },
    {
      "cell_type": "code",
      "execution_count": null,
      "id": "a4a07f40",
      "metadata": {
        "id": "a4a07f40"
      },
      "outputs": [],
      "source": [
        "meu_dicom"
      ]
    },
    {
      "cell_type": "markdown",
      "id": "b1051628",
      "metadata": {
        "id": "b1051628"
      },
      "source": [
        "### Acabamos de carregar todas as informações do arquivo DICOM para dentro da variavel chamada meu_dicom\n",
        "### Conseguimos agora ver todos DataElements e os seus respectivos valores\n",
        "### Vamos explorar o DICOM um pouco"
      ]
    },
    {
      "cell_type": "code",
      "execution_count": null,
      "id": "206f9fec",
      "metadata": {
        "id": "206f9fec"
      },
      "outputs": [],
      "source": [
        "meu_dicom.StudyDescription"
      ]
    },
    {
      "cell_type": "code",
      "execution_count": null,
      "id": "fd631b36",
      "metadata": {
        "id": "fd631b36"
      },
      "outputs": [],
      "source": [
        "meu_dicom[0x00081030]"
      ]
    },
    {
      "cell_type": "code",
      "execution_count": null,
      "id": "e242847c",
      "metadata": {
        "id": "e242847c"
      },
      "outputs": [],
      "source": [
        "meu_dicom.dir()"
      ]
    },
    {
      "cell_type": "code",
      "execution_count": null,
      "id": "a65885a6",
      "metadata": {
        "id": "a65885a6"
      },
      "outputs": [],
      "source": [
        "if \"PixelData\" in meu_dicom:\n",
        "    print(\"Esse exame tem PixelData\")\n",
        "else:\n",
        "    print(\"Esses exame NÃO tem PixelData\")"
      ]
    },
    {
      "cell_type": "code",
      "execution_count": null,
      "id": "082a5448",
      "metadata": {
        "id": "082a5448"
      },
      "outputs": [],
      "source": [
        "meu_dicom.PixelData"
      ]
    },
    {
      "cell_type": "markdown",
      "id": "c538e243",
      "metadata": {
        "id": "c538e243"
      },
      "source": [
        "### Para conseguir mostrar a imagem dentro do PixelData de forma adequada é preciso processa-la, para isso vamos usar alguma ferramentadas do módulo pyplot da bilbioteca matplotlib\n",
        "### Vamos usar especificamente a função show() e vamos passar como input o próprio PixelData"
      ]
    },
    {
      "cell_type": "code",
      "execution_count": null,
      "id": "088b89dd",
      "metadata": {
        "id": "088b89dd"
      },
      "outputs": [],
      "source": [
        "pyplot.imshow(meu_dicom.pixel_array, cmap=pyplot.cm.gray)\n",
        "pyplot.show()"
      ]
    },
    {
      "cell_type": "markdown",
      "id": "8e18e0af",
      "metadata": {
        "id": "8e18e0af"
      },
      "source": [
        "### Agora podemos até salvar apenas a imagem, sem nenhum outro DataElement em um outro formato, como por exemplo png\n",
        "### Para isso vamos usar a biblioteca opencv2 e numpy"
      ]
    },
    {
      "cell_type": "code",
      "execution_count": null,
      "id": "f8b1078d",
      "metadata": {
        "id": "f8b1078d"
      },
      "outputs": [],
      "source": [
        "\n",
        "\n",
        "#Carregar o PixelArray\n",
        "arr = meu_dicom.pixel_array\n",
        "\n",
        "#Aplicar lookuptable\n",
        "arr = util.apply_modality_lut(arr, meu_dicom)\n",
        "\n",
        "# Normalizar o array\n",
        "arr = arr-np.min(arr)\n",
        "arr = arr/np.max(arr)\n",
        "arr = (arr*255).astype(np.uint8)\n",
        "cv2.imwrite(\"rm.jpg\", arr)"
      ]
    },
    {
      "cell_type": "markdown",
      "id": "7c16e07a",
      "metadata": {
        "id": "7c16e07a"
      },
      "source": [
        "### Podemos também modificar a imagem antes de salva-la, para isso vamos usar ferramentas de uma outra biblioteca chamda scikit-image"
      ]
    },
    {
      "cell_type": "code",
      "execution_count": null,
      "id": "7b744168",
      "metadata": {
        "id": "7b744168"
      },
      "outputs": [],
      "source": [
        "imagem = io.imread(\"rm.jpg\", as_gray = True)"
      ]
    },
    {
      "cell_type": "code",
      "execution_count": null,
      "id": "65811158",
      "metadata": {
        "id": "65811158"
      },
      "outputs": [],
      "source": [
        "imagem_nova = filters.sobel(imagem)\n",
        "pyplot.imshow(imagem_nova, cmap=pyplot.cm.gray)\n",
        "pyplot.show()"
      ]
    },
    {
      "cell_type": "code",
      "execution_count": null,
      "id": "e465e6f0",
      "metadata": {
        "id": "e465e6f0"
      },
      "outputs": [],
      "source": [
        "imagem_nova2 = filters.apply_hysteresis_threshold(imagem_nova, 0.09, 0.1)\n",
        "pyplot.imshow(imagem_nova2, cmap=pyplot.cm.gray)\n",
        "pyplot.show()"
      ]
    },
    {
      "cell_type": "code",
      "execution_count": null,
      "id": "0e25daac",
      "metadata": {
        "id": "0e25daac"
      },
      "outputs": [],
      "source": [
        "imagem_nova = filters.prewitt_v(imagem)\n",
        "pyplot.imshow(imagem_nova, cmap=pyplot.cm.gray)\n",
        "pyplot.show()"
      ]
    },
    {
      "cell_type": "markdown",
      "id": "1bc4f095",
      "metadata": {
        "id": "1bc4f095"
      },
      "source": [
        "### Vamos agora fazer algumas operações com mais de um arquivo e tentar agregar dados que possam ser uteis na prática"
      ]
    },
    {
      "cell_type": "code",
      "execution_count": null,
      "id": "c382b9a5",
      "metadata": {
        "id": "c382b9a5"
      },
      "outputs": [],
      "source": [
        "lista_arquivos = os.listdir(\"dicom-jpr2022/dicom\")"
      ]
    },
    {
      "cell_type": "code",
      "execution_count": null,
      "id": "0f4f4bd8",
      "metadata": {
        "id": "0f4f4bd8"
      },
      "outputs": [],
      "source": [
        "lista_arquivos"
      ]
    },
    {
      "cell_type": "code",
      "execution_count": null,
      "id": "d0b3aaad",
      "metadata": {
        "id": "d0b3aaad"
      },
      "outputs": [],
      "source": [
        "#criamos uma lista vazia\n",
        "lista_dados = []\n",
        "\n",
        "for elemento in lista_arquivos:\n",
        "    \n",
        "    #Carregaremos todos os arquivos da lista\n",
        "    caminho_arquivo = \"dicom-jpr2022/dicom/\" + elemento\n",
        "    dicom = pydicom.dcmread(caminho_arquivo)\n",
        "    print(\"carregando arquivo:\", caminho_arquivo)\n",
        "    \n",
        "    # Vamos salvar algun dados desse para em variaveis\n",
        "    sexo = dicom.PatientSex\n",
        "    modelo = dicom.ManufacturerModelName\n",
        "    idade = dicom.PatientAge\n",
        "    serie = dicom.SeriesDescription\n",
        "    \n",
        "    #Vamos criar uma lista e incluir todos esses dados na lista, sempre na mesma ordem\n",
        "    dados_exame = [sexo, modelo, idade, serie]\n",
        "    \n",
        "    #Criamos aqui uma lista de lista (adicionamos uma lista a outra lista)\n",
        "    lista_dados.append(dados_exame)\n",
        "    print(\"carregado com sucesso\")\n",
        "    print(\"\")\n",
        "\n",
        "    \n",
        "    \n",
        "    "
      ]
    },
    {
      "cell_type": "code",
      "execution_count": null,
      "id": "6a00291f",
      "metadata": {
        "id": "6a00291f"
      },
      "outputs": [],
      "source": [
        "lista_dados"
      ]
    },
    {
      "cell_type": "code",
      "execution_count": null,
      "id": "bbc9d5a6",
      "metadata": {
        "id": "bbc9d5a6"
      },
      "outputs": [],
      "source": [
        "#Aqui estamos usando uma biblioteca chamada pandas, que é util para manipular dados tabulares\n",
        "df = pd.DataFrame(lista_dados, columns=[\"sexo\", \"modelo\", \"idade\", \"serie\"])"
      ]
    },
    {
      "cell_type": "code",
      "execution_count": null,
      "id": "ffe3c544",
      "metadata": {
        "id": "ffe3c544"
      },
      "outputs": [],
      "source": [
        "df"
      ]
    },
    {
      "cell_type": "markdown",
      "id": "255e69e1",
      "metadata": {
        "id": "255e69e1"
      },
      "source": [
        "### Modificando e salvando um DICOM\n",
        "\n",
        "### Para finalizar vamos editar um dicom e salva-lo"
      ]
    },
    {
      "cell_type": "code",
      "execution_count": null,
      "id": "70d91480",
      "metadata": {
        "id": "70d91480"
      },
      "outputs": [],
      "source": [
        "meu_dicom = pydicom.dcmread(\"dicom-jpr2022/dicom/exemplo_1.dcm\")"
      ]
    },
    {
      "cell_type": "code",
      "execution_count": null,
      "id": "97a0c95a",
      "metadata": {
        "id": "97a0c95a"
      },
      "outputs": [],
      "source": [
        "meu_dicom.PatientName"
      ]
    },
    {
      "cell_type": "code",
      "execution_count": null,
      "id": "30c3b851",
      "metadata": {
        "id": "30c3b851"
      },
      "outputs": [],
      "source": [
        "meu_dicom.PatientName = \"Paciente 01\""
      ]
    },
    {
      "cell_type": "code",
      "execution_count": null,
      "id": "244696b4",
      "metadata": {
        "id": "244696b4"
      },
      "outputs": [],
      "source": [
        "meu_dicom.save_as(\"dicom_modificado.dcm\")"
      ]
    },
    {
      "cell_type": "code",
      "execution_count": null,
      "id": "10cdeaa0",
      "metadata": {
        "id": "10cdeaa0"
      },
      "outputs": [],
      "source": [
        "dicom_original = pydicom.dcmread(\"dicom-jpr2022/dicom/exemplo_1.dcm\")\n",
        "print(\"Nome do paciente no dicom original:\", dicom_original.PatientName)\n",
        "dicom_alterado = pydicom.dcmread(\"dicom_modificado.dcm\")\n",
        "print(\"Nome do paciente no dicom original:\", dicom_alterado.PatientName)"
      ]
    },
    {
      "cell_type": "code",
      "execution_count": null,
      "id": "5fb458a5",
      "metadata": {
        "id": "5fb458a5"
      },
      "outputs": [],
      "source": [
        ""
      ]
    }
  ],
  "metadata": {
    "kernelspec": {
      "display_name": "Python 3",
      "language": "python",
      "name": "python3"
    },
    "language_info": {
      "codemirror_mode": {
        "name": "ipython",
        "version": 3
      },
      "file_extension": ".py",
      "mimetype": "text/x-python",
      "name": "python",
      "nbconvert_exporter": "python",
      "pygments_lexer": "ipython3",
      "version": "3.8.0"
    },
    "colab": {
      "name": "DICOM Tutorial.ipynb",
      "provenance": [],
      "include_colab_link": true
    }
  },
  "nbformat": 4,
  "nbformat_minor": 5
}