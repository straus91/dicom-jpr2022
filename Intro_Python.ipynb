{
  "cells": [
    {
      "cell_type": "markdown",
      "metadata": {
        "id": "view-in-github",
        "colab_type": "text"
      },
      "source": [
        "<a href=\"https://colab.research.google.com/github/straus91/dicom-jpr2022/blob/master/Intro_Python.ipynb\" target=\"_parent\"><img src=\"https://colab.research.google.com/assets/colab-badge.svg\" alt=\"Open In Colab\"/></a>"
      ]
    },
    {
      "cell_type": "markdown",
      "id": "fb297ce7",
      "metadata": {
        "id": "fb297ce7"
      },
      "source": [
        "# Breve Introdução ao Python\n",
        "\n",
        "<br><br>\n",
        "## Variáveis\n",
        "### Podemos pensar em variaveis como uma caixa onde podemos armazenar informacoes.\n",
        "### A informacao pode ser de varios tipos, como por exemplo numeros ou texto.\n",
        "### Toda a variavel tem que ter um \"nome\" para que possamos identifica-la\n",
        "\n"
      ]
    },
    {
      "cell_type": "code",
      "execution_count": null,
      "id": "480eec62",
      "metadata": {
        "id": "480eec62"
      },
      "outputs": [],
      "source": [
        "minha_variavel = 2022"
      ]
    },
    {
      "cell_type": "markdown",
      "id": "d3dd201d",
      "metadata": {
        "id": "d3dd201d"
      },
      "source": [
        "### Para checar o conteúdo da variavel basta \"chama-la\", ou seja digitar o nome da variável e rodar a célula de código (play ou \"SHIFT + ENTER)\n",
        "### A \"saida\" e como chamamos a respota do computador, e aparece logo embaixo da célula executada"
      ]
    },
    {
      "cell_type": "code",
      "execution_count": null,
      "id": "fbd53382",
      "metadata": {
        "id": "fbd53382"
      },
      "outputs": [],
      "source": [
        "minha_variavel"
      ]
    },
    {
      "cell_type": "markdown",
      "id": "aa4bf06b",
      "metadata": {
        "id": "aa4bf06b"
      },
      "source": [
        "### Em python a variável é sempre criada ja com algum valor específico"
      ]
    },
    {
      "cell_type": "code",
      "execution_count": null,
      "id": "b4d80b12",
      "metadata": {
        "id": "b4d80b12"
      },
      "outputs": [],
      "source": [
        "minha_segunda_variavel"
      ]
    },
    {
      "cell_type": "markdown",
      "id": "924e53be",
      "metadata": {
        "id": "924e53be"
      },
      "source": [
        "### Uma variável pode também conter texto (também chamado de string - ou cadeia de caracteres).\n",
        "### Para armazenar o texto em uma variavel ele precisa estar entre aspas (simples ou dupla)"
      ]
    },
    {
      "cell_type": "code",
      "execution_count": null,
      "id": "fe981d03",
      "metadata": {
        "id": "fe981d03"
      },
      "outputs": [],
      "source": [
        "minha_segunda_variavel = \"essa variavel contem texto\""
      ]
    },
    {
      "cell_type": "code",
      "execution_count": null,
      "id": "28c31bd5",
      "metadata": {
        "id": "28c31bd5"
      },
      "outputs": [],
      "source": [
        "minha_segunda_variavel"
      ]
    },
    {
      "cell_type": "markdown",
      "id": "c11210bb",
      "metadata": {
        "id": "c11210bb"
      },
      "source": [
        "### Podemos mudar livremente o conteudo o valor das variaveis (basicamente como se trocassemos o que a caixa esta armazenando).\n",
        "### A variavel sempre vai conter o ultimo valor atribuido a ela"
      ]
    },
    {
      "cell_type": "code",
      "execution_count": null,
      "id": "f482d6cd",
      "metadata": {
        "id": "f482d6cd"
      },
      "outputs": [],
      "source": [
        "X = 123456789"
      ]
    },
    {
      "cell_type": "code",
      "execution_count": null,
      "id": "24d3411d",
      "metadata": {
        "id": "24d3411d"
      },
      "outputs": [],
      "source": [
        "X"
      ]
    },
    {
      "cell_type": "code",
      "execution_count": null,
      "id": "57e28735",
      "metadata": {
        "id": "57e28735"
      },
      "outputs": [],
      "source": [
        "X = \"texto\""
      ]
    },
    {
      "cell_type": "code",
      "execution_count": null,
      "id": "f899ae62",
      "metadata": {
        "id": "f899ae62"
      },
      "outputs": [],
      "source": [
        "X"
      ]
    },
    {
      "cell_type": "code",
      "execution_count": null,
      "id": "238ff4fa",
      "metadata": {
        "id": "238ff4fa"
      },
      "outputs": [],
      "source": [
        "X = 4\n",
        "X = X + X"
      ]
    },
    {
      "cell_type": "code",
      "execution_count": null,
      "id": "7b581b63",
      "metadata": {
        "id": "7b581b63"
      },
      "outputs": [],
      "source": [
        "X"
      ]
    },
    {
      "cell_type": "markdown",
      "id": "e43e72b6",
      "metadata": {
        "id": "e43e72b6"
      },
      "source": [
        "## Funções\n",
        "### Podemos pensar em funções como ferramentas que nos permitem realizar uma tarefa muito especifica.\n",
        "### Em Python nós podemos utilizar funções pré-existentes ou criar nossas próprias funções, para este curso especificamente iremos apenas usar funções pré-existentes.\n",
        "### As funções seguem um padrão que pode ser resumido em duas partes\n",
        "1. Nome da função \n",
        "2. input ou entrada da função (sempre entre paretenses)\n"
      ]
    },
    {
      "cell_type": "code",
      "execution_count": null,
      "id": "6cb0a04a",
      "metadata": {
        "id": "6cb0a04a"
      },
      "outputs": [],
      "source": [
        "Y = 7.5423420\n",
        "print(Y)"
      ]
    },
    {
      "cell_type": "markdown",
      "id": "9f5d0142",
      "metadata": {
        "id": "9f5d0142"
      },
      "source": [
        "<img src=\"notebook_images/funcao_1.PNG\">\n",
        "\n",
        "### O resultado de uma função pode ser salvo em uma variável"
      ]
    },
    {
      "cell_type": "code",
      "execution_count": null,
      "id": "562f975b",
      "metadata": {
        "id": "562f975b"
      },
      "outputs": [],
      "source": [
        "Z = round(Y)"
      ]
    },
    {
      "cell_type": "markdown",
      "id": "9ccba96c",
      "metadata": {
        "id": "9ccba96c"
      },
      "source": [
        "<img src=\"notebook_images/funcao_2.PNG\">"
      ]
    },
    {
      "cell_type": "code",
      "execution_count": null,
      "id": "ac177f4b",
      "metadata": {
        "id": "ac177f4b"
      },
      "outputs": [],
      "source": [
        "print(Z)"
      ]
    },
    {
      "cell_type": "markdown",
      "id": "8f99bf49",
      "metadata": {
        "id": "8f99bf49"
      },
      "source": [
        "## Orações condicionais (If clausules)\n",
        "### Em python é relativamente simples checar se uma oração é verdadeira ou não e com isso tomar alguma decisão\n",
        "### As operações condicionais tem dois elementos:\n",
        "### `if:`condição\n",
        "\n",
        "* Executar uma função\n",
        "\n",
        "### `else:`\n",
        "\n",
        "* Executar outra função\n"
      ]
    },
    {
      "cell_type": "code",
      "execution_count": null,
      "id": "02bd2b79",
      "metadata": {
        "id": "02bd2b79"
      },
      "outputs": [],
      "source": [
        "idade = 10"
      ]
    },
    {
      "cell_type": "code",
      "execution_count": null,
      "id": "2ff81dde",
      "metadata": {
        "id": "2ff81dde"
      },
      "outputs": [],
      "source": [
        "if idade > 17:\n",
        "    print(\"adulto\")\n",
        "else:\n",
        "    print(\"pediátrico\")"
      ]
    },
    {
      "cell_type": "code",
      "execution_count": null,
      "id": "c4c9cb61",
      "metadata": {
        "id": "c4c9cb61"
      },
      "outputs": [],
      "source": [
        "texto = \"Meu nome é Marcelo\""
      ]
    },
    {
      "cell_type": "code",
      "execution_count": null,
      "id": "c90b9509",
      "metadata": {
        "id": "c90b9509"
      },
      "outputs": [],
      "source": [
        "busca = \"Marcelo\"\n",
        "if busca in texto:\n",
        "    print(\"achei\")\n",
        "else:\n",
        "    print(\"não achei\")"
      ]
    },
    {
      "cell_type": "markdown",
      "id": "90ddd9bb",
      "metadata": {
        "id": "90ddd9bb"
      },
      "source": [
        "## Sequencias\n",
        "### Sequencias sao conjuntos de dados\n",
        "### Existem vários tipos de sequencias com características e utilidades distintas. Nesse curso vamos nos ater as sequencias do tipo lista, que são o tipo mais simples\n",
        "### As listas são definidas entre [ ] e também podem ser armazenadas em variáveis\n"
      ]
    },
    {
      "cell_type": "code",
      "execution_count": null,
      "id": "4ff35ed7",
      "metadata": {
        "id": "4ff35ed7"
      },
      "outputs": [],
      "source": [
        "minha_lista = [\"Derrame Pleural\", \"Consolidação\", \"Pneumotórax\", \"Nódulo\"]"
      ]
    },
    {
      "cell_type": "code",
      "execution_count": null,
      "id": "277d3841",
      "metadata": {
        "id": "277d3841"
      },
      "outputs": [],
      "source": [
        "minha_lista"
      ]
    },
    {
      "cell_type": "code",
      "execution_count": null,
      "id": "350b1bc0",
      "metadata": {
        "id": "350b1bc0"
      },
      "outputs": [],
      "source": [
        "len(minha_lista)"
      ]
    },
    {
      "cell_type": "markdown",
      "id": "6a12da3a",
      "metadata": {
        "id": "6a12da3a"
      },
      "source": [
        "### Os elementos individuais das listas também pode ser acessados, para isso basta colocar o númer de qual elemento voce quer acessar entre [ ] após o nome da lista\n",
        "### Em python o primeiro elemento de uma lista é sempre o elemento 0"
      ]
    },
    {
      "cell_type": "code",
      "execution_count": null,
      "id": "09943346",
      "metadata": {
        "id": "09943346"
      },
      "outputs": [],
      "source": [
        "minha_lista[0]"
      ]
    },
    {
      "cell_type": "code",
      "execution_count": null,
      "id": "2f51351c",
      "metadata": {
        "id": "2f51351c"
      },
      "outputs": [],
      "source": [
        "minha_lista[3]"
      ]
    },
    {
      "cell_type": "code",
      "execution_count": null,
      "id": "3fc87034",
      "metadata": {
        "id": "3fc87034"
      },
      "outputs": [],
      "source": [
        "minha_lista[4]"
      ]
    },
    {
      "cell_type": "markdown",
      "id": "a2b2ceee",
      "metadata": {
        "id": "a2b2ceee"
      },
      "source": [
        "## Laço (Loop)\n",
        "### Loops são usados para se repetir uma tarefa\n",
        "### Existem dois tipos principais de Loops em python:\n",
        "### `for:` usa uma sequencia como base\n",
        "### `while:` usa uma condição como base"
      ]
    },
    {
      "cell_type": "code",
      "execution_count": null,
      "id": "2e0767ab",
      "metadata": {
        "id": "2e0767ab"
      },
      "outputs": [],
      "source": [
        "for elemento in minha_lista:\n",
        "    print(\"encontrei um(a)\", elemento)"
      ]
    },
    {
      "cell_type": "code",
      "execution_count": null,
      "id": "640873e4",
      "metadata": {
        "id": "640873e4"
      },
      "outputs": [],
      "source": [
        "idade = 1\n",
        "while idade < 18:\n",
        "    print(\"voce é menor de idade e tem\", idade, \"anos\")\n",
        "    idade = idade + 1\n",
        "    "
      ]
    },
    {
      "cell_type": "markdown",
      "id": "49ac08b0",
      "metadata": {
        "id": "49ac08b0"
      },
      "source": [
        "## **Bibliotecas** nada mais são do que coleções de códigos já escritas e que tem uma função específica.\n",
        "### Bibliotecas precisam ser instaladas e depois importadas\n"
      ]
    },
    {
      "cell_type": "code",
      "execution_count": null,
      "id": "2e7c34ec",
      "metadata": {
        "id": "2e7c34ec"
      },
      "outputs": [],
      "source": [
        "!pip install numpy\n",
        "import numpy as np"
      ]
    },
    {
      "cell_type": "code",
      "execution_count": null,
      "id": "8ed2ab84",
      "metadata": {
        "id": "8ed2ab84"
      },
      "outputs": [],
      "source": [
        "notas_alunos = [4,5,6,2,3,4,5,4,3,2,10,7,6,5,8,9,2,6,3]\n"
      ]
    },
    {
      "cell_type": "code",
      "execution_count": null,
      "id": "9c35e203",
      "metadata": {
        "id": "9c35e203"
      },
      "outputs": [],
      "source": [
        "media = np.mean(notas_alunos)\n",
        "print(\"Nota media foi\", media)"
      ]
    },
    {
      "cell_type": "code",
      "execution_count": null,
      "id": "1363d98a",
      "metadata": {
        "id": "1363d98a"
      },
      "outputs": [],
      "source": [
        "dp = np.std(notas_alunos)\n",
        "print(\"Desvio padrao foi\", dp)"
      ]
    },
    {
      "cell_type": "code",
      "execution_count": null,
      "id": "5cae3b5c",
      "metadata": {
        "id": "5cae3b5c"
      },
      "outputs": [],
      "source": [
        "!pip install matplotlib\n",
        "!pip install seaborn\n",
        "import matplotlib\n",
        "import seaborn as sns\n",
        "%matplotlib inline"
      ]
    },
    {
      "cell_type": "code",
      "execution_count": null,
      "id": "f2702a78",
      "metadata": {
        "id": "f2702a78"
      },
      "outputs": [],
      "source": [
        "sns.histplot(data=notas_alunos, kde=True)"
      ]
    },
    {
      "cell_type": "code",
      "execution_count": null,
      "id": "4ed5b882",
      "metadata": {
        "id": "4ed5b882"
      },
      "outputs": [],
      "source": [
        ""
      ]
    }
  ],
  "metadata": {
    "kernelspec": {
      "display_name": "Python 3",
      "language": "python",
      "name": "python3"
    },
    "language_info": {
      "codemirror_mode": {
        "name": "ipython",
        "version": 3
      },
      "file_extension": ".py",
      "mimetype": "text/x-python",
      "name": "python",
      "nbconvert_exporter": "python",
      "pygments_lexer": "ipython3",
      "version": "3.8.0"
    },
    "colab": {
      "name": "Intro Python.ipynb",
      "provenance": [],
      "include_colab_link": true
    }
  },
  "nbformat": 4,
  "nbformat_minor": 5
}