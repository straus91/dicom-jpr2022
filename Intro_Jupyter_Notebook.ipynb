{
  "cells": [
    {
      "cell_type": "markdown",
      "metadata": {
        "id": "view-in-github",
        "colab_type": "text"
      },
      "source": [
        "<a href=\"https://colab.research.google.com/github/straus91/dicom-jpr2022/blob/master/Intro_Jupyter_Notebook.ipynb\" target=\"_parent\"><img src=\"https://colab.research.google.com/assets/colab-badge.svg\" alt=\"Open In Colab\"/></a>"
      ]
    },
    {
      "cell_type": "markdown",
      "id": "4a9f3125",
      "metadata": {
        "id": "4a9f3125"
      },
      "source": [
        "# Introdução - O que é e como funciona um Jupyter Notebook\n",
        "\n",
        "<img src=\"notebook_images/python_icon.png\">\n",
        "\n",
        "<br><br>\n",
        "\n",
        "### **Python** é uma linguagem de programação que tem como uma de suas principais características a \"legibilidade\", ou seja é uma linguagem que tende a ser mais legível e clara.\n",
        "\n",
        "### É considerada a linguagem de programação mais popular do mundo e muito utilziada para ensinar programação básica.\n",
        "\n",
        "### https://www.python.org/\n",
        "----\n",
        "<img src=\"notebook_images/colab_icon.png\">\n",
        "\n",
        "<br><br>\n",
        "\n",
        "###  Colab ou \"Colaboratory\" é uma plataforma da Google que permite escrever e exectur Python no próprio navegador.\n",
        "\n",
        "### https://colab.research.google.com/\n",
        "---\n",
        "\n",
        "<img src=\"notebook_images/jupyter_icon.png\">\n",
        "\n",
        "### No Colab é possível criar notebooks através do Jupyter Notebook App, que te permitem facilmente misturar texto, imagens e código em um único lugar.\n",
        "\n",
        "### Além esses notebooks são muito úteis pois nos permitem escrever e executar o código em pequenos passos facilitando muitos experimentos\n",
        "----\n",
        "\n",
        "## Como um notebook funciona?\n",
        "\n",
        "### Cada notebook é composto de \"células\" onde podemos escrever texto simples ou código, no nosso caso código em python.\n",
        "\n",
        "### Exemplo de célula de texto:\n",
        "\n",
        "<img src=\"notebook_images/cell_texto.png\">\n",
        "\n",
        "### A caixa logo abaixo representa uma célula de texto, digite algo nela e pressione \"SHIFT + ENTER\" para ver o que acontece"
      ]
    },
    {
      "cell_type": "markdown",
      "id": "c6ac38ad",
      "metadata": {
        "id": "c6ac38ad"
      },
      "source": [
        ""
      ]
    },
    {
      "cell_type": "markdown",
      "id": "49aff559",
      "metadata": {
        "id": "49aff559"
      },
      "source": [
        "### Exemplo de células de código:\n",
        "\n",
        "<img src=\"notebook_images/cell_codigo.png\">\n",
        "\n",
        "### De uma forma geral todo o texto incluido em uma célula desse tipo vai ser interpretada como código.\n",
        "\n",
        "### As células de código podem ser identificadas ou por dois colchetes [ ] ou por um botão de \"play\" ao lado. Esse botão é utilizada para executar o código.\n",
        "\n",
        "<img src=\"notebook_images/cell_codigo_c.png\">\n",
        "\n",
        "<img src=\"notebook_images/cell_codigo_r.png\">\n",
        "\n",
        "### A caixa logo abaixo representa uma célula de código, digite algo nela e pressione \"SHIFT + ENTER\" para ver o que acontece"
      ]
    },
    {
      "cell_type": "code",
      "execution_count": null,
      "id": "ed264615",
      "metadata": {
        "id": "ed264615"
      },
      "outputs": [],
      "source": [
        ""
      ]
    },
    {
      "cell_type": "markdown",
      "id": "1954f752",
      "metadata": {
        "id": "1954f752"
      },
      "source": [
        "### Como ja mencionado, o que for escrito em uma célula de código será interpretado como código, portanto deve ser escrita de acordo com as regras da linguagem de programação.\n",
        "\n",
        "### Células de código serão nossa principal ferramenta de trabalho neste curso.\n",
        "### Uma vez que o código estiver pronto é só clicar no botão play ou apertar \"SHIFT + ENTER\"  para executar o código e obter o resultado do código, que será exibido logo abaixo da mesma célula"
      ]
    },
    {
      "cell_type": "code",
      "execution_count": null,
      "id": "0695f281",
      "metadata": {
        "id": "0695f281"
      },
      "outputs": [],
      "source": [
        "1 + 1"
      ]
    },
    {
      "cell_type": "code",
      "execution_count": null,
      "id": "98b1b24c",
      "metadata": {
        "id": "98b1b24c"
      },
      "outputs": [],
      "source": [
        "print(\"Hello World\")"
      ]
    },
    {
      "cell_type": "code",
      "execution_count": null,
      "id": "c443a07d",
      "metadata": {
        "id": "c443a07d"
      },
      "outputs": [],
      "source": [
        "X = 2\n",
        "Y = 3\n",
        "Z = X + Y"
      ]
    },
    {
      "cell_type": "code",
      "execution_count": null,
      "id": "d1c61230",
      "metadata": {
        "id": "d1c61230"
      },
      "outputs": [],
      "source": [
        "print(X)\n",
        "print(Y)\n",
        "print(Z)"
      ]
    },
    {
      "cell_type": "code",
      "execution_count": null,
      "id": "ea071f6e",
      "metadata": {
        "id": "ea071f6e"
      },
      "outputs": [],
      "source": [
        "# Caso seja necessario colocar texto em formao nao codigo dentro de uma celula de codigo pode-se preceder o texto com #\n",
        "# Nesse caso o texto nao e interpretado pelo computador.\n",
        "# Chamamos isso de comentario"
      ]
    }
  ],
  "metadata": {
    "kernelspec": {
      "display_name": "Python 3",
      "language": "python",
      "name": "python3"
    },
    "language_info": {
      "codemirror_mode": {
        "name": "ipython",
        "version": 3
      },
      "file_extension": ".py",
      "mimetype": "text/x-python",
      "name": "python",
      "nbconvert_exporter": "python",
      "pygments_lexer": "ipython3",
      "version": "3.8.0"
    },
    "colab": {
      "name": "Intro Jupyter Notebook.ipynb",
      "provenance": [],
      "include_colab_link": true
    }
  },
  "nbformat": 4,
  "nbformat_minor": 5
}